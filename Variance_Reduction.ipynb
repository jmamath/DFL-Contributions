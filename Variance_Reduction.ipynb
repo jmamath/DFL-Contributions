{
  "nbformat": 4,
  "nbformat_minor": 0,
  "metadata": {
    "colab": {
      "name": "Variance Reduction.ipynb",
      "provenance": [],
      "collapsed_sections": [],
      "include_colab_link": true
    },
    "kernelspec": {
      "name": "python3",
      "display_name": "Python 3"
    }
  },
  "cells": [
    {
      "cell_type": "markdown",
      "metadata": {
        "id": "view-in-github",
        "colab_type": "text"
      },
      "source": [
        "<a href=\"https://colab.research.google.com/github/jmamath/DFL-Contributions/blob/master/Variance_Reduction.ipynb\" target=\"_parent\"><img src=\"https://colab.research.google.com/assets/colab-badge.svg\" alt=\"Open In Colab\"/></a>"
      ]
    },
    {
      "cell_type": "code",
      "metadata": {
        "id": "QBGuw8YcFB2I",
        "colab_type": "code",
        "colab": {}
      },
      "source": [
        "import numpy as np\n",
        "import math\n",
        "\n",
        "# Global variable to indicate we are looking for 95 % confidence interval\n",
        "Z_95 = 1.96\n"
      ],
      "execution_count": 0,
      "outputs": []
    },
    {
      "cell_type": "code",
      "metadata": {
        "id": "TaN3GxExFHaC",
        "colab_type": "code",
        "colab": {}
      },
      "source": [
        "def naive_mc_simulation(n_sample, z=Z_95):\n",
        "    \"\"\" \n",
        "    Example 1 - Naive Monte Carlo simulation in \n",
        "    \"Simulation Efficiency and an Introduction to Variance Reduction Methods\"    \n",
        "    \n",
        "    u and v follow a uniform distribution U(0,1) \n",
        "    we want to estimate the mean of y = exp{(u+w)^2}\n",
        "    \n",
        "    Args:\n",
        "        n_sample: Int. Number of sample for the main simulation\n",
        "        z: Float. constants to indicate the nature of the confidence interval \n",
        "    Returns:\n",
        "        mean of Y\n",
        "        half_width \n",
        "        confidence interval \n",
        "    \"\"\"\n",
        "    # random variable\n",
        "    u = np.random.uniform(low=0, high=1, size=n_sample)\n",
        "    w = np.random.uniform(low=0, high=1, size=n_sample)    \n",
        "    y = np.exp(np.power(u+w,2))\n",
        "    \n",
        "    theta_n = np.mean(y)\n",
        "\n",
        "    # Let's compute the half width confidence interval    \n",
        "    half_width = z * np.std(y)/math.sqrt(n_sample)\n",
        "    confidence_interval = (theta_n-half_width, theta_n+half_width)\n",
        "    return theta_n, half_width, confidence_interval\n",
        "\n"
      ],
      "execution_count": 0,
      "outputs": []
    },
    {
      "cell_type": "code",
      "metadata": {
        "id": "m-nIzglAFI-z",
        "colab_type": "code",
        "colab": {}
      },
      "source": [
        "def control_variate_MC_simulation(p_sample, n_sample, z_argument, Z=Z_95):\n",
        "    \"\"\" \n",
        "    Example 1 - Control variate algorithm in \n",
        "    \"Simulation Efficiency and an Introduction to Variance Reduction Methods\"        \n",
        "    \n",
        "    u and v follow a uniform distribution U(0,1)   \n",
        "    we want to estimate the mean of y = exp{(u+w)^2}\n",
        "    \n",
        "    Args:\n",
        "        p_sample: Int. Number of sample for the pilot simulation\n",
        "        n_sample: Int. Number of sample for the main simulation\n",
        "        z_argument: Int. Number between 1 and 3 to choose the form of the control variate\n",
        "                         random variable Z\n",
        "        z: Float. constants to indicate the nature of the confidence interval \n",
        "    Returns:\n",
        "        mean of Y\n",
        "        half_width \n",
        "        confidence interval \n",
        "    \"\"\"\n",
        "    # (1) Pilot simulation \n",
        "    u = np.random.uniform(low=0, high=1, size=(p_sample))\n",
        "    w = np.random.uniform(low=0, high=1, size=(p_sample))\n",
        "    \n",
        "    z = np.power(u+w,2)\n",
        "    y = np.exp(z)\n",
        "    \n",
        "    cov = np.sum((z-np.mean(z))*(y-np.mean(y))) / p_sample-1\n",
        "    c = -cov/np.var(z)\n",
        "    \n",
        "    # (2) Main simulation        \n",
        "    u = np.random.uniform(low=0, high=1, size=(n_sample))\n",
        "    w = np.random.uniform(low=0, high=1, size=(n_sample))\n",
        "    \n",
        "    z1 = u+w\n",
        "    z2 = np.power(u+w,2)\n",
        "    z3 = np.exp(u+w)\n",
        "    \n",
        "    if z_argument == 1:\n",
        "        z = z1\n",
        "    elif z_argument ==2:\n",
        "        z = z2\n",
        "    else:\n",
        "        z = z3\n",
        "    \n",
        "    y = np.exp(np.power(u+w,2))    \n",
        "    v = y + c*(z - np.mean(z))\n",
        "    \n",
        "    theta_c = np.mean(v)\n",
        "    half_width = Z * np.std(v)/math.sqrt(n_sample)    \n",
        "    confidence_interval = (theta_c-half_width, theta_c+half_width)  \n",
        "\n",
        "    return theta_c, half_width, confidence_interval\n"
      ],
      "execution_count": 0,
      "outputs": []
    },
    {
      "cell_type": "code",
      "metadata": {
        "id": "wKCbzV08FL0C",
        "colab_type": "code",
        "outputId": "f361ca2a-af6f-400f-eb26-8c85662bbab9",
        "colab": {
          "base_uri": "https://localhost:8080/",
          "height": 136
        }
      },
      "source": [
        "param1, hw1, ci1 = naive_mc_simulation(1000)\n",
        "\n",
        "param2, hw2, ci2 = control_variate_MC_simulation(100, 900,3)\n",
        "\n",
        "naive = \"Naive Monte Carlo \\nMean estimation {} \\nHalf Width: {}\"\n",
        "control_variate = \"Control Variate Monte Carlo \\nMean estimation {} \\nHalf Width: {}\"\n",
        "\n",
        "print(naive.format(param1,hw1))\n",
        "print(\"-----------------------\")\n",
        "print(control_variate.format(param2,hw2))\n"
      ],
      "execution_count": 0,
      "outputs": [
        {
          "output_type": "stream",
          "text": [
            "Naive Monte Carlo \n",
            "Mean estimation 4.429122366947787 \n",
            "Half Width: 0.31980448298753467\n",
            "-----------------------\n",
            "Control Variate Monte Carlo \n",
            "Mean estimation 4.571490613929147 \n",
            "Half Width: 0.1716633821310768\n"
          ],
          "name": "stdout"
        }
      ]
    },
    {
      "cell_type": "code",
      "metadata": {
        "id": "puoc3jzvFOiT",
        "colab_type": "code",
        "colab": {}
      },
      "source": [
        ""
      ],
      "execution_count": 0,
      "outputs": []
    }
  ]
}